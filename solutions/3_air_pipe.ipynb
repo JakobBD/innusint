{
 "cells": [
  {
   "attachments": {},
   "cell_type": "markdown",
   "metadata": {},
   "source": [
    "# Air in a Pipe\n",
    "\n",
    "The Code structure is similar to the previous one. \n",
    "What's new is the euqation system - and that we don't only take the upstream cells for the flux anymore. \n",
    "\n",
    "### Initialization"
   ]
  },
  {
   "cell_type": "code",
   "execution_count": null,
   "metadata": {},
   "outputs": [],
   "source": [
    "import numpy as np \n",
    "from matplotlib import pyplot as plt\n",
    "\n",
    "# input\n",
    "n_cells = 100\n",
    "xmin = -1.\n",
    "xmax = 1.\n",
    "\n",
    "# divide pipe into cells\n",
    "cellwidth = (xmax-xmin)/n_cells\n",
    "cell_centers = np.linspace(xmin + cellwidth/2., xmax-cellwidth/2., n_cells)\n",
    "\n",
    "# define indices of different quantities. \n",
    "# This makes reading the code much easier \n",
    "MASS = 0\n",
    "MOMT = 1\n",
    "ENER = 2\n",
    "VELO = 1\n",
    "PRES = 2\n",
    "n_variables = 3\n",
    "\n",
    "# Initialize solution array - now has three entries per cell! \n",
    "u = np.zeros((n_cells, n_variables))\n",
    "u[:,MASS] = 1.\n",
    "u[:,MOMT] = 1.\n",
    "u[:,ENER] = 2. \n",
    "wave_region = np.abs(cell_centers)<0.2\n",
    "u[wave_region,MASS] = 1.1 + 0.1*np.cos(5*np.pi*cell_centers[wave_region])\n",
    "u[wave_region,MOMT] = 1.1 + 0.1*np.cos(5*np.pi*cell_centers[wave_region])\n",
    "\n",
    "# plot initial solution\n",
    "plt.figure()\n",
    "plt.bar(cell_centers, u[:,MASS], width=cellwidth, edgecolor='black')"
   ]
  },
  {
   "cell_type": "code",
   "execution_count": null,
   "metadata": {},
   "outputs": [],
   "source": [
    "# define left and right cell neighbours (again)\n",
    "cell_numbers = np.arange(n_cells)\n",
    "left_neighbours = cell_numbers - 1\n",
    "right_neighbours = (cell_numbers + 1)\n",
    "right_neighbours[n_cells - 1] = 0 "
   ]
  },
  {
   "attachments": {},
   "cell_type": "markdown",
   "metadata": {},
   "source": [
    "### Helper functions\n",
    "\n",
    "Here come some helper functions we haven't iscussed in the slides. They... \n",
    "- Compute velocity and pressure from the conserved variables\n",
    "- Compute the largest possible time step\n",
    "- compute the ominous flux stabilization term (draw the rest of the owl!)"
   ]
  },
  {
   "cell_type": "code",
   "execution_count": null,
   "metadata": {},
   "outputs": [],
   "source": [
    "# calculate flux \n",
    "def velocity(u):\n",
    "    vel = u[:,MOMT] / u[:,MASS]\n",
    "    return vel\n",
    "\n",
    "def pressure(u):\n",
    "    pres = 0.4*(u[:,ENER] - 0.5* u[:,MASS] * velocity(u)**2)\n",
    "    return pres\n",
    "\n",
    "def sos(u): \n",
    "    return np.sqrt(1.4*pressure(u)/u[:,MASS])\n",
    "\n",
    "def lmbda(u):\n",
    "    return sos(u)+np.abs(velocity(u))\n",
    "\n",
    "def calc_time_step(u): \n",
    "    return 0.99*cellwidth/np.max(lmbda(u))\n",
    "\n",
    "def stabilization(u_left, u_right):\n",
    "    a = np.maximum(lmbda(u_left), lmbda(u_right))\n",
    "    return - 0.5 * a[...,np.newaxis] * (u_right-u_left)\n"
   ]
  },
  {
   "attachments": {},
   "cell_type": "markdown",
   "metadata": {},
   "source": [
    "### Core functions \n",
    "\n",
    "Your turn!\n",
    "Tasks: \n",
    "- First fill in the flux function which calculates the flux from a single state $u$\n",
    "- Fill in the flux over a side by calling the flux function twice and averaging it.\n",
    "\n",
    "The time step routine is already filled in.\n"
   ]
  },
  {
   "cell_type": "code",
   "execution_count": null,
   "metadata": {},
   "outputs": [],
   "source": [
    "# compute the flux function from one single state u\n",
    "def flux_cell(u):\n",
    "    f_cell = np.zeros_like(u)\n",
    "    f_cell[:,MASS] = u[:,MASS] * velocity(u)\n",
    "    f_cell[:,MOMT] = u[:,MOMT] * velocity(u) + pressure(u)\n",
    "    f_cell[:,ENER] = u[:,ENER] * velocity(u) + (pressure(u) * velocity(u))\n",
    "    return f_cell\n",
    "\n",
    "# flux over a side between two cells\n",
    "def flux_side(u_left, u_right): \n",
    "    f_left = flux_cell(u_left) \n",
    "    f_right = flux_cell(u_right) \n",
    "    f_average = 0.5 * (f_left + f_right) \n",
    "    f_side = f_average + stabilization(u_left, u_right)\n",
    "    return f_side\n",
    "\n",
    "# advance state u by one time step\n",
    "def perform_time_step(u):\n",
    "    time_step = calc_time_step(u)\n",
    "    inflow  = flux_side(u[left_neighbours,:], u) * time_step\n",
    "    outflow = flux_side(u, u[right_neighbours,:]) * time_step\n",
    "    u_total = u * cellwidth\n",
    "    u_total_new = u_total + (inflow - outflow)\n",
    "    u = u_total_new / cellwidth\n",
    "    return u\n"
   ]
  },
  {
   "attachments": {},
   "cell_type": "markdown",
   "metadata": {},
   "source": [
    "Let's let it run! (this just calls the time step routine in a loop and does all the plotting - nothing to do here!)"
   ]
  },
  {
   "cell_type": "code",
   "execution_count": null,
   "metadata": {},
   "outputs": [],
   "source": [
    "\n",
    "# plotting stuff (again...) \n",
    "SHOW = MASS\n",
    "fig, ax = plt.subplots(1, 4)\n",
    "fig.set_size_inches(12, 3)\n",
    "ax[0].bar(cell_centers, u[:,SHOW], width=cellwidth)\n",
    "\n",
    "# time step loop with some plotting\n",
    "for ifig in range(1,4):\n",
    "    for _ in range(20):\n",
    "        # this calls the time step!\n",
    "        u = perform_time_step(u)\n",
    "    ax[ifig].bar(cell_centers, u[:,SHOW], width=cellwidth)"
   ]
  }
 ],
 "metadata": {
  "kernelspec": {
   "display_name": "Python 3",
   "language": "python",
   "name": "python3"
  },
  "language_info": {
   "codemirror_mode": {
    "name": "ipython",
    "version": 3
   },
   "file_extension": ".py",
   "mimetype": "text/x-python",
   "name": "python",
   "nbconvert_exporter": "python",
   "pygments_lexer": "ipython3",
   "version": "3.8.10"
  },
  "orig_nbformat": 4,
  "vscode": {
   "interpreter": {
    "hash": "916dbcbb3f70747c44a77c7bcd40155683ae19c65e1c03b4aa3499c5328201f1"
   }
  }
 },
 "nbformat": 4,
 "nbformat_minor": 2
}
