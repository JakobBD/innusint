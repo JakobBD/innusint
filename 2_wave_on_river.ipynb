{
 "cells": [
  {
   "attachments": {},
   "cell_type": "markdown",
   "metadata": {},
   "source": [
    "# Flood wave on a river\n",
    "\n",
    "### Initialization \n",
    "\n",
    "The initialization is already filled in.\n",
    "We don't have to do anything. \n",
    "We define a lot of input parameters that we can later play around with."
   ]
  },
  {
   "cell_type": "code",
   "execution_count": null,
   "metadata": {},
   "outputs": [],
   "source": [
    "import numpy as np \n",
    "from matplotlib import pyplot as plt\n",
    "import os\n",
    "if not os.path.exists('helpers.py'):\n",
    "  import urllib.request \n",
    "  urllib.request.urlretrieve('https://raw.githubusercontent.com/JakobBD/innusint/main/helpers.py', 'helpers.py')\n",
    "from helpers import plot_wave\n",
    "\n",
    "# input parameters\n",
    "x_left = 0.\n",
    "x_right = 1. \n",
    "v_river = 1.5\n",
    "n_cells = 150\n",
    "# wave shape \n",
    "x_crest_start = 0.2\n",
    "x_crest_end = 0.7  # at final time\n",
    "wave_halfwidth = 0.2\n",
    "\n",
    "# divide river into cells\n",
    "river_length = (x_right - x_left)\n",
    "cell_width = river_length / n_cells \n",
    "cell_centers = np.linspace(x_left + 0.5 * cell_width, x_right - 0.5 * cell_width, n_cells)\n",
    "\n",
    "# initialize wave height for start time t = 0.\n",
    "# base height = 1 (flat river)  \n",
    "height = np.ones_like(cell_centers)\n",
    "# add wave on top\n",
    "wave_region = np.abs(cell_centers - x_crest_start) < wave_halfwidth\n",
    "height[wave_region] += np.cos(0.5 * np.pi/wave_halfwidth*(cell_centers[wave_region] - x_crest_start))**2\n",
    "\n",
    "\n",
    "#Plot initial height (Plotting, as always, can be ignored)\n",
    "plt.figure()    \n",
    "plot_wave(plt.gca(), cell_centers, height, cell_width, 0.)"
   ]
  },
  {
   "attachments": {},
   "cell_type": "markdown",
   "metadata": {},
   "source": [
    "### Actual simulation\n",
    "\n",
    "We have to do some preparations first, mainly so that we know how many time steps we want to do and how large they are.\n",
    "\n",
    "Then the magic happens! \n",
    "\n",
    "Task: \n",
    "- Implement the formulae from the slides into the time step loop.\n"
   ]
  },
  {
   "cell_type": "code",
   "execution_count": null,
   "metadata": {},
   "outputs": [],
   "source": [
    "# initialize plot (ignore, again!)\n",
    "fig, ax = plt.subplots(1, 4)\n",
    "fig.set_size_inches(12, 3)\n",
    "\n",
    "# TIME CALCULATIONS\n",
    "# set end of simulation\n",
    "t_end = (x_crest_end - x_crest_start) / v_river\n",
    "# automatically set a good time step width \n",
    "# (here the wave travels through almost one cell in one time step)\n",
    "time_step = 0.9 * cell_width / v_river\n",
    "# calculate when to draw a figure, and how many time steps to do in total.\n",
    "n_time_steps_figure = int(t_end / (3. * time_step))   # int() converts to a whole number\n",
    "n_time_steps = 3 * n_time_steps_figure\n",
    "\n",
    "# index arrays for left neighbours of every cell\n",
    "cell_numbers = np.arange(n_cells)\n",
    "left_neighbours = cell_numbers - 1\n",
    "\n",
    "# Loop over time steps\n",
    "i_time_step = 0\n",
    "while i_time_step <= n_time_steps:\n",
    "\n",
    "    # plot (plotting can be ignored)\n",
    "    if i_time_step % n_time_steps_figure == 0:\n",
    "        i_figure = i_time_step // n_time_steps_figure\n",
    "        time = time_step * i_time_step\n",
    "        plot_wave(ax[i_figure], cell_centers, height, cell_width, time)\n",
    "\n",
    "    # Add your code here!\n",
    "    # volume = ...\n",
    "    # inflow = ...\n",
    "    # outflow = ...\n",
    "    # volume_new = ...\n",
    "    # height = ...\n",
    "\n",
    "    i_time_step = i_time_step + 1 "
   ]
  }
 ],
 "metadata": {
  "kernelspec": {
   "display_name": "Python 3",
   "language": "python",
   "name": "python3"
  },
  "language_info": {
   "codemirror_mode": {
    "name": "ipython",
    "version": 3
   },
   "file_extension": ".py",
   "mimetype": "text/x-python",
   "name": "python",
   "nbconvert_exporter": "python",
   "pygments_lexer": "ipython3",
   "version": "3.8.10"
  },
  "orig_nbformat": 4,
  "vscode": {
   "interpreter": {
    "hash": "916dbcbb3f70747c44a77c7bcd40155683ae19c65e1c03b4aa3499c5328201f1"
   }
  }
 },
 "nbformat": 4,
 "nbformat_minor": 2
}
