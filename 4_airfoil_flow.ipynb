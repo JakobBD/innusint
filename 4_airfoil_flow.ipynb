{
 "cells": [
  {
   "attachments": {},
   "cell_type": "markdown",
   "metadata": {},
   "source": [
    "# Flow Around An Airfoil\n",
    "\n",
    "Nothing to fill in here. Just read the code and the descriptions, let it run and play around with the input! "
   ]
  },
  {
   "attachments": {},
   "cell_type": "markdown",
   "metadata": {},
   "source": [
    "### Config and Imports\n",
    "\n",
    "First, we specify the input parameters that can be changed; We can play around with these later."
   ]
  },
  {
   "cell_type": "code",
   "execution_count": null,
   "metadata": {},
   "outputs": [],
   "source": [
    "airfoil_angle = 15. # degrees \n",
    "airspeed = 150. # m/s"
   ]
  },
  {
   "attachments": {},
   "cell_type": "markdown",
   "metadata": {},
   "source": [
    "Nex, we import some external libraries: No need to write the code ourselves if others have already done it. No need to look at this in detail!"
   ]
  },
  {
   "cell_type": "code",
   "execution_count": null,
   "metadata": {},
   "outputs": [],
   "source": [
    "import os\n",
    "import numpy as np  # general math library\n",
    "from matplotlib import pyplot as plt  # plots graphics\n",
    "from matplotlib import colormaps, colors, colorbar, path  # some more libraries to help with plotting\n",
    "from scipy.interpolate import griddata  # this helps with plotting streamlines of air\n",
    "try: \n",
    "    import pygmsh  # divides air flow region into triangular cells\n",
    "except: \n",
    "    !pip install pygmsh\n",
    "    import pygmsh\n",
    "if not os.path.exists('naca0012.csv'):\n",
    "  import urllib.request \n",
    "  urllib.request.urlretrieve('https://raw.githubusercontent.com/JakobBD/innusint/main/naca0012.csv', 'naca0012.csv')"
   ]
  },
  {
   "attachments": {},
   "cell_type": "markdown",
   "metadata": {},
   "source": [
    "### Grid Generation\n",
    "\n",
    "We divide the air flow region around the arifoil into triangular cells. This is called a \"mesh\" or a \"grid\".\n",
    "\n",
    "We use an external library for this."
   ]
  },
  {
   "cell_type": "code",
   "execution_count": null,
   "metadata": {},
   "outputs": [],
   "source": [
    "# Load airfoil geometry from file\n",
    "naca = np.loadtxt('naca0012.csv', skiprows=9, delimiter=',')[::3,:]/100.\n",
    "\n",
    "# divide air flow region into triangular cells. \n",
    "with pygmsh.occ.Geometry() as geom:\n",
    "    # domain border: circle with radius 5\n",
    "    outer = geom.add_disk([0.0, 0.0], 5.0, mesh_size=1.0)\n",
    "    inner = geom.add_polygon(naca, mesh_size=0.1,\n",
    "    )\n",
    "    geom.boolean_difference(outer, inner)\n",
    "    mesh = geom.generate_mesh()\n",
    "nodes = mesh.points[:,:2]\n",
    "alpha = airfoil_angle*np.pi/180.\n",
    "nodes[:,0], nodes[:,1] = nodes[:,0]*np.cos(alpha) + nodes[:,1]*np.sin(alpha), nodes[:,1]*np.cos(alpha) - nodes[:,0]*np.sin(alpha)\n",
    "cells = mesh.cells_dict['triangle']"
   ]
  },
  {
   "attachments": {},
   "cell_type": "markdown",
   "metadata": {},
   "source": [
    "This code gives us two arrays:\n",
    "- The `nodes` array contains coordinates of all the corners of the triangles. For example, node number 354 has `x=0.26` and `y=0.51`. \n",
    "- The `cells` array contains the nodes that make up each cell. For example, cell number 17 has the corner nodes number 254, 341 and 12. "
   ]
  },
  {
   "attachments": {},
   "cell_type": "markdown",
   "metadata": {},
   "source": [
    "### Plot Grid\n",
    "\n",
    "Let's have a look at the grid we have generated!"
   ]
  },
  {
   "cell_type": "code",
   "execution_count": null,
   "metadata": {},
   "outputs": [],
   "source": [
    "# plot cells in graph \n",
    "fig, ax = plt.subplots(1, 2)\n",
    "fig.set_size_inches(9, 4)\n",
    "plt.figure() \n",
    "ax[0].triplot(nodes[:,0], nodes[:,1], cells)\n",
    "ax[1].triplot(nodes[:,0], nodes[:,1], cells)\n",
    "dummy = ax[1].axis([-0.5, 1.5, -1., 1.])"
   ]
  },
  {
   "attachments": {},
   "cell_type": "markdown",
   "metadata": {},
   "source": [
    "### Cell Connectivity\n",
    "\n",
    "We want to calculate how much air flows from one cell into another. For this, some information on how the cells are connected, In particular, we need: \n",
    "- An array of `sides`, each of which connects to adjacent cells. Later, we will calculate how much air flows over which side.\n",
    "- An array `cell2side` that maps each cell to its three sides. For example, the sides 35, 85 and 293 make up cell number 105. \n",
    "- An array that maps each side to its two neighbouring cells. For example, side number 35 connects elements number 105 and 212.  \n",
    "\n",
    "We also need information on where the air flow region we want to investigate ends. We call these sides *boundary* sides. We sepcify two kinds of boundaries: the one around the airfoil is a wall, i.e. no air can flow through these sides. For the outer boundary, we define that the air condition outside of it is always at a constant state that we prescribe. "
   ]
  },
  {
   "cell_type": "code",
   "execution_count": null,
   "metadata": {},
   "outputs": [],
   "source": [
    "# CONNECTIVITY\n",
    "n_cells = cells.shape[0]\n",
    "sides = np.concatenate((cells[:,:2], cells[:,1:], cells[:,::-2]))\n",
    "\n",
    "sides, uniquesideids, cell2side_flat = np.unique(np.sort(sides), axis=0, return_index=True, return_inverse=True)\n",
    "n_sides = sides.shape[0]\n",
    "cell2side = np.transpose(np.reshape(cell2side_flat, (3, n_cells)))\n",
    "\n",
    "# build side2cell\n",
    "cell_ind = np.mod(np.arange(3*n_cells), n_cells)\n",
    "sideid_2_cellid = np.transpose(np.stack((cell2side_flat, cell_ind)))\n",
    "side2cell = np.zeros((n_sides, 2)).astype(int)-1\n",
    "side2cell[sideid_2_cellid[uniquesideids,0],0] = sideid_2_cellid[uniquesideids,1]\n",
    "sideid_2_cellid = np.delete(sideid_2_cellid, uniquesideids, axis=0)\n",
    "side2cell[sideid_2_cellid[:,0],1] = sideid_2_cellid[:,1]\n",
    "\n",
    "# boundaries\n",
    "bcsides = np.argwhere(side2cell[:,1]<0)[:,0]\n",
    "bc_wall = bcsides[np.linalg.norm(nodes[sides[bcsides,0],:], axis=1)<2.]\n",
    "bc_outr = bcsides[np.linalg.norm(nodes[sides[bcsides,0],:], axis=1)>2.] "
   ]
  },
  {
   "attachments": {},
   "cell_type": "markdown",
   "metadata": {},
   "source": [
    "### Grid Geometry\n",
    "\n",
    "We need some further geometric information on our mesh of cells: \n",
    "- The `volume` (i.e. area, since we are two-dimensional) of each cell\n",
    "- The `length` of each side between two cells\n",
    "- The direction/angle of each side. We express this as the `normal` vector, i.e. the direction orthogonal to the side. \n",
    "- The location of the center of each side `x_side` and of each cell `x_cell`\n",
    "\n",
    "If air flows from one cell into another, the flowing mass is subtracted from one cell and added to another. We need to define a direction for each side, i.e. which cell a positive flow gets subtracted from and which it gets added to. In other words, we have to define whether a positive velocity means from cell 1 to cell 2 or the other way round. We do this with an array we call `outward_factor`. For each side, we set it to -1 for one nighbouring cell and to +1 for the other. "
   ]
  },
  {
   "cell_type": "code",
   "execution_count": null,
   "metadata": {},
   "outputs": [],
   "source": [
    "# metrics \n",
    "volume = np.abs(np.cross(nodes[cells[:,1],:]-nodes[cells[:,0],:], nodes[cells[:,2],:]-nodes[cells[:,0],:], axis=1))/2.\n",
    "diff = nodes[sides[:,1],:] - nodes[sides[:,0],:]\n",
    "length = np.linalg.norm(diff, axis=1)\n",
    "normal = np.stack((diff[:,1]/length , -diff[:,0]/length), axis = 1) \n",
    "x_cell = (nodes[cells[:,0],:] + nodes[cells[:,1],:] + nodes[cells[:,2],:])/3.\n",
    "x_side = (nodes[sides[:,0],:] + nodes[sides[:,1],:]) / 2.\n",
    "\n",
    "# normal vector needs to always point from 'first' neighbouring cell into 'second': Flip those that are wrong\n",
    "leftbary2side_vec = x_side - x_cell[side2cell[:,0],:]\n",
    "is_wrong_direction = np.sum(leftbary2side_vec*normal, axis=1)  < 0.\n",
    "normal[is_wrong_direction,:] *= -1.\n",
    "\n",
    "# Define for each side if a 'positive' flow means that air flows out of the cell or into it.\n",
    "# set all to outward (-1) at first\n",
    "outward_factor=np.zeros_like(cell2side) - 1\n",
    "for iside in range(3):\n",
    "    # inward are those where the cellID is second entry of side2cell\n",
    "    outward_factor[side2cell[cell2side[:,iside],1] == np.arange(n_cells),iside] = 1. "
   ]
  },
  {
   "attachments": {},
   "cell_type": "markdown",
   "metadata": {},
   "source": [
    "### Define Soluion Arrays\n",
    "\n",
    "We know this part from the 1D-example. Apart from arrays for the solution in the cells, we now also define arrays for the solution at the sides. It's the same values, just sorted differently, such that we can compute the flux over each side easily. For each side, we define one cell as the 'left' and one asthe 'right' cell. The accoridng arrays are called `u_left` and `u_right`."
   ]
  },
  {
   "cell_type": "code",
   "execution_count": null,
   "metadata": {},
   "outputs": [],
   "source": [
    "# solution arrays:\n",
    "# cells \n",
    "u = np.zeros((n_cells, 4))\n",
    "up = np.zeros((n_cells, 4))\n",
    "# sides\n",
    "u_left = np.zeros((n_sides, 4))\n",
    "u_right = np.zeros((n_sides, 4))\n"
   ]
  },
  {
   "attachments": {},
   "cell_type": "markdown",
   "metadata": {},
   "source": [
    "### Equation System\n",
    "\n",
    "We introduce indices that represent the variables which define the state of the air.\n",
    "\n",
    "We introduce functions to switch between conserved (`cons`) and primitive (`prim`) (i.e. easy to grasp) quantities.\n",
    "\n",
    "We define the same flux function as before (only with two velocity / momentum components), and the same function to get the fastest wave/signal speed. "
   ]
  },
  {
   "cell_type": "code",
   "execution_count": null,
   "metadata": {},
   "outputs": [],
   "source": [
    "\n",
    "# define indices for variables defining state of the air: \n",
    "# conservative variables\n",
    "DENS = 0  # density\n",
    "MOMX = 1  # momentum in x-direction\n",
    "MOMY = 2  # momentum in y-direction\n",
    "ENER = 3  # (total) energy \n",
    "# primitive variables\n",
    "# DENS = 0 (already defined)\n",
    "VELX = 1  # velocity in x-direction\n",
    "VELY = 2  # velocity in y-direction\n",
    "PRES = 3  # pressure\n",
    "\n",
    "def constoprim(u):\n",
    "    up = u.copy()\n",
    "    up[:,VELX] = u[:,MOMX] / u[:,DENS]\n",
    "    up[:,VELY] = u[:,MOMY] / u[:,DENS]\n",
    "    up[:,PRES] = 0.4*(u[:,ENER] - 0.5* u[:,DENS] * (up[:,VELX]**2 + up[:,VELY]**2) )\n",
    "    return up\n",
    "\n",
    "def primtocons(up):\n",
    "    u = up.copy()\n",
    "    u[:,MOMX] = up[:,VELX] * up[:,DENS]\n",
    "    u[:,MOMY] = up[:,VELY] * up[:,DENS]\n",
    "    u[:,ENER] = up[:,PRES]*2.5 + 0.5* up[:,DENS] * (up[:,VELX]**2 + up[:,VELY]**2)\n",
    "    return u\n",
    "\n",
    "\n",
    "def flux(u, up):\n",
    "    f = np.zeros_like(u)\n",
    "    \n",
    "    f[:,DENS] = up[:,VELX] * up[:,DENS]\n",
    "    f[:,MOMX] = up[:,VELX]**2 * up[:,DENS] + up[:,PRES]\n",
    "    f[:,MOMY] = up[:,VELX]*up[:,VELY]*up[:,DENS]\n",
    "    f[:,ENER] = up[:,VELX]*( u[:,ENER] + up[:,PRES] )\n",
    "    return f\n",
    "\n",
    "\n",
    "def speed_of_sound(up):\n",
    "    return np.sqrt(1.4 * up[:,PRES] / up[:,DENS])\n",
    "\n",
    "def absolute_velocity(up): \n",
    "    return np.linalg.norm(up[:,VELX:VELY+1], axis=1)\n",
    "\n",
    "def fastest_wave(up): \n",
    "    return speed_of_sound(up) + absolute_velocity(up)"
   ]
  },
  {
   "attachments": {},
   "cell_type": "markdown",
   "metadata": {},
   "source": [
    "### Initialize Solution \n",
    "\n",
    "We initialize the base condition of the surrounding air with standard conditions at sea level. The horizontal velocity is the head wind, i.e. the speed of our airfoil. "
   ]
  },
  {
   "cell_type": "code",
   "execution_count": null,
   "metadata": {},
   "outputs": [],
   "source": [
    "\n",
    "freeflow_prim = np.zeros((1,4))\n",
    "freeflow_prim[:,DENS] = 1.225  # kg/m^3\n",
    "freeflow_prim[:,VELX] = airspeed   # m/s\n",
    "freeflow_prim[:,VELY] = 0.     # m/s\n",
    "freeflow_prim[:,PRES] = 101300 # Pascal (100000 Pa = 1bar)\n",
    "\n",
    "# switch to conservative\n",
    "freeflow = primtocons(freeflow_prim)\n",
    "\n",
    "# copy to solution as starting condition\n",
    "u[:,:] = freeflow"
   ]
  },
  {
   "attachments": {},
   "cell_type": "markdown",
   "metadata": {},
   "source": [
    "### The Important Stuff\n",
    "\n",
    "Now we introduce some functions which we can later plug together to run our simulation.\n"
   ]
  },
  {
   "cell_type": "code",
   "execution_count": null,
   "metadata": {},
   "outputs": [],
   "source": [
    "\n",
    "# rotation directions: \n",
    "FWD = 1\n",
    "BWD = -1\n",
    "def rotate(a, dir=FWD): \n",
    "    a[:,MOMX], a[:,MOMY] = a[:,MOMX]*normal[:,0] + dir*a[:,MOMY]*normal[:,1], a[:,MOMY]*normal[:,0] - dir*a[:,MOMX]*normal[:,1]\n",
    "\n",
    "\n",
    "def fill_sides(u):\n",
    "    \n",
    "    # fill sides\n",
    "    u_left[:,:] = u[side2cell[:,0],:]\n",
    "    u_right[:,:] = u[side2cell[:,1],:]\n",
    "\n",
    "    # fill outer boundary sides \n",
    "    u_right[bc_outr,:] = freeflow\n",
    "\n",
    "    # rotate into local (side-normal) coordinate system\n",
    "    rotate(u_left, dir=FWD)\n",
    "    rotate(u_right, dir=FWD)\n",
    "\n",
    "    # wall boundary: copy state and inverse wall-normal velocity\n",
    "    u_right[bc_wall,:] = u_left[bc_wall,:] \n",
    "    u_right[bc_wall,MOMX] *= -1\n",
    "\n",
    "    return u_left, u_right\n",
    "\n",
    "\n",
    "def calc_flux(u_left, u_right): \n",
    "    up_left = constoprim(u_left)\n",
    "    up_right = constoprim(u_right)\n",
    "\n",
    "    f_left = flux(u_left, up_left) \n",
    "    f_right = flux(u_right, up_right) \n",
    "    f = 0.5 * (f_left + f_right) \n",
    "    \n",
    "    a = np.maximum(fastest_wave(up_left), fastest_wave(up_right))\n",
    "    stabilization = -0.5 * a[...,np.newaxis] * (u_right-u_left)\n",
    "    f = f + stabilization\n",
    "    return f\n",
    "\n",
    "def check_state_physical(u):\n",
    "    if np.min(up[:,DENS]) < 0. or np.min(up[:,PRES]) < 0.:   \n",
    "        raise Exception(\"Negative pressure or density encountered!\")\n",
    "\n",
    "def timestep(up, min_cell_size): \n",
    "    return 0.99 * min_cell_size / np.max(fastest_wave(up))\n",
    "\n",
    "def change_of_state(f, time_step): \n",
    "\n",
    "    # rotate back\n",
    "    rotate(f, dir=BWD)\n",
    "\n",
    "    # add flux to cells \n",
    "    f = f * np.reshape(length,(n_sides,1))\n",
    "    f_cell = np.zeros_like(u)\n",
    "    for iside in range(3): \n",
    "        f_cell = f_cell + f[cell2side[:,iside],:] / np.reshape( volume * outward_factor[:,iside], (n_cells,1))\n",
    "    return time_step * f_cell"
   ]
  },
  {
   "attachments": {},
   "cell_type": "markdown",
   "metadata": {},
   "source": [
    "### Run Simulation"
   ]
  },
  {
   "cell_type": "code",
   "execution_count": null,
   "metadata": {},
   "outputs": [],
   "source": [
    "\n",
    "number_of_timesteps = 3000\n",
    "for i_timestep in range(number_of_timesteps): \n",
    "    up = constoprim(u)\n",
    "    check_state_physical(up)\n",
    "    time_step = timestep(up, min_cell_size=0.001)\n",
    "    u_left, u_right = fill_sides(u) \n",
    "    f = calc_flux(u_left, u_right)\n",
    "    u = u + change_of_state(f, time_step)"
   ]
  },
  {
   "attachments": {},
   "cell_type": "markdown",
   "metadata": {},
   "source": [
    "### Calulcate Forces on Airfoil\n",
    "\n",
    "After the simulation is finished, we calculate the forces (i.e. the lift and drag) that the air exerts on the airfoil.\n",
    "For this, we need the pressure on each wall boundary side, which e multiply by each side length. The direction of the pressure is given by the normal vector of the side. \n",
    "\n",
    "We add all these forces to get the resulting force `fsum` (which is a 2D-vector) and its total strength `fsum_abs`. \n",
    "We can also calculate the point `x_force` where this force is applied 'on average'\n",
    "We use these values to plot a force arrow into the figure below. Its width is proportional to the strength of the force."
   ]
  },
  {
   "cell_type": "code",
   "execution_count": null,
   "metadata": {},
   "outputs": [],
   "source": [
    "forces = (primtocons(u[side2cell[bc_wall,0],:])[:,PRES]) * length[bc_wall]\n",
    "forces = forces[...,np.newaxis] * normal[bc_wall,:]\n",
    "fsum = np.sum(forces, axis=0)\n",
    "fsum_abs = np.linalg.norm(fsum)\n",
    "x_force = np.sum(x_side[bc_wall,:]*forces[:,::-1], axis=0)/fsum[::-1]"
   ]
  },
  {
   "attachments": {},
   "cell_type": "markdown",
   "metadata": {},
   "source": [
    "### Plot Results\n",
    "\n",
    "The rest is just fancy plotting... we can ignore this part. "
   ]
  },
  {
   "cell_type": "code",
   "execution_count": null,
   "metadata": {},
   "outputs": [],
   "source": [
    "def fancy_plot(u_all, index, title):\n",
    "\n",
    "    up = constoprim(u_all)\n",
    "    u = up[:,index]\n",
    "\n",
    "    xmin, xmax, ymin, ymax = -0.5, 1.5, -1., 1.\n",
    "    fig, ax = plt.subplots(1,2,gridspec_kw={'width_ratios': [10, 1]}) \n",
    "\n",
    "    # PRESSURE FIELD\n",
    "    # colors \n",
    "    umin, umax = np.min(u), np.max(u)\n",
    "    umid = (umin+umax)/2.\n",
    "    umin = np.minimum(umin, umid-0.01)\n",
    "    umax = np.maximum(umax, umid+0.01)\n",
    "    cnorm = colors.Normalize(umin, umax)\n",
    "    cmap = colormaps.get_cmap('viridis')\n",
    "    # actual plot\n",
    "    for icell in range(n_cells): \n",
    "        ax[0].fill(nodes[cells[icell,:],0], nodes[cells[icell,:],1], color = cmap(cnorm(u[icell])))\n",
    "\n",
    "    # STREAMLINE PLOT \n",
    "    # interpolate to Cartesian grid\n",
    "    ncart = 100\n",
    "    xcart, ycart = np.meshgrid(np.linspace(xmin,xmax,ncart), np.linspace(ymin,ymax,ncart))\n",
    "    index_use = np.maximum(np.abs(x_cell[:,0] - (xmax+xmin)/2.)/(xmax-xmin), np.abs(x_cell[:,1] - (ymax+ymin)/2.)/(ymax-ymin)) < 0.6\n",
    "    vx_cart = griddata(x_cell[index_use,:], up[index_use,VELX], (xcart, ycart))\n",
    "    vy_cart = griddata(x_cell[index_use,:], up[index_use,VELY], (xcart, ycart))\n",
    "    # create airfoil masking\n",
    "    rnaca = naca.copy()\n",
    "    rnaca[:,0], rnaca[:,1] = rnaca[:,0]*np.cos(alpha) + rnaca[:,1]*np.sin(alpha), rnaca[:,1]*np.cos(alpha) - rnaca[:,0]*np.sin(alpha)\n",
    "    npath = path.Path(rnaca)\n",
    "    mask = npath.contains_points(np.transpose(np.vstack([xcart.ravel(), ycart.ravel()]))).reshape((ncart,ncart))\n",
    "    vx_masked = np.ma.array(vx_cart, mask=mask)\n",
    "    vy_masked = np.ma.array(vy_cart, mask=mask)\n",
    "    # calculate linewidth from velocity\n",
    "    v_masked = np.ma.sqrt(vx_masked**2+vy_masked**2)\n",
    "    v_ff = np.linalg.norm(freeflow[0,MOMX:MOMY+1])/freeflow[0,DENS]\n",
    "    lw = 2. + 5.*(v_masked-v_ff)/v_ff \n",
    "    # show streamplot\n",
    "    ax[0].streamplot(xcart, ycart, vx_masked, vy_masked, color='black', linewidth = lw)\n",
    "\n",
    "    # FORCE ARROW\n",
    "    ax[0].arrow(x_force[0], x_force[1], 0.8*fsum[0]/fsum_abs, 0.8*fsum[1]/fsum_abs, color='r', width = 5.e-7*fsum_abs)\n",
    "    # set region to show\n",
    "    _ = ax[0].axis([xmin, xmax, ymin, ymax])\n",
    "\n",
    "    # add color legend on the right \n",
    "    cb1 = colorbar.ColorbarBase(ax[1], \n",
    "                                cmap=cmap,\n",
    "                                norm=cnorm,\n",
    "                                orientation='vertical')\n",
    "    cb1.set_label(title)\n",
    "\n",
    "    fig.suptitle(title)\n",
    "    fig.show()\n"
   ]
  },
  {
   "attachments": {},
   "cell_type": "markdown",
   "metadata": {},
   "source": [
    "And taddaaa..."
   ]
  },
  {
   "cell_type": "code",
   "execution_count": null,
   "metadata": {},
   "outputs": [],
   "source": [
    "\n",
    "fancy_plot(u, PRES, 'Pressure')"
   ]
  }
 ],
 "metadata": {
  "kernelspec": {
   "display_name": "Python 3",
   "language": "python",
   "name": "python3"
  },
  "language_info": {
   "codemirror_mode": {
    "name": "ipython",
    "version": 3
   },
   "file_extension": ".py",
   "mimetype": "text/x-python",
   "name": "python",
   "nbconvert_exporter": "python",
   "pygments_lexer": "ipython3",
   "version": "3.8.10"
  },
  "orig_nbformat": 4,
  "vscode": {
   "interpreter": {
    "hash": "916dbcbb3f70747c44a77c7bcd40155683ae19c65e1c03b4aa3499c5328201f1"
   }
  }
 },
 "nbformat": 4,
 "nbformat_minor": 2
}
