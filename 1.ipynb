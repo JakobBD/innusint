{
 "cells": [
  {
   "attachments": {},
   "cell_type": "markdown",
   "metadata": {},
   "source": [
    "# Ball Trajectory\n",
    "\n",
    "We only have a very basic program skeleton here and program everything ourselves. \n",
    "Soo far, we only import (and call) a graph plotting function and initialize arrrays with all x positions. \n",
    "\n",
    "Tasks: \n",
    "- Initialize start position and list with all positions\n",
    "- Compute first time step:\n",
    "    - Initialize velocity\n",
    "    - Update Position and add to array of all positions \n",
    "- Create loop of time steps \n",
    "- Change velocity through gravity\n",
    "- Change abort condition of loop: $y<0$; Plot final distance.\n",
    "- Optional: Add air friction \n",
    "- Play around with parameters (initial velocity, time step size)"
   ]
  },
  {
   "cell_type": "code",
   "execution_count": null,
   "metadata": {},
   "outputs": [],
   "source": [
    "# some imports, can be ignored \n",
    "import os\n",
    "if not os.path.exists('helpers.py'):\n",
    "  import urllib.request \n",
    "  urllib.request.urlretrieve('https://raw.githubusercontent.com/JakobBD/innusint/main/helpers.py', 'helpers.py')\n",
    "from helpers import draw_ball_trajectory\n",
    "import numpy as np\n",
    "\n",
    "\n",
    "\n",
    "\n",
    "# list with all positions\n",
    "all_x = []\n",
    "all_y = []\n",
    "\n",
    "\n",
    "draw_ball_trajectory(all_x, all_y) "
   ]
  }
 ],
 "metadata": {
  "kernelspec": {
   "display_name": "Python 3",
   "language": "python",
   "name": "python3"
  },
  "language_info": {
   "codemirror_mode": {
    "name": "ipython",
    "version": 3
   },
   "file_extension": ".py",
   "mimetype": "text/x-python",
   "name": "python",
   "nbconvert_exporter": "python",
   "pygments_lexer": "ipython3",
   "version": "3.8.10"
  },
  "orig_nbformat": 4,
  "vscode": {
   "interpreter": {
    "hash": "916dbcbb3f70747c44a77c7bcd40155683ae19c65e1c03b4aa3499c5328201f1"
   }
  }
 },
 "nbformat": 4,
 "nbformat_minor": 2
}
